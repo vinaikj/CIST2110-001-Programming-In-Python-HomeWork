{
 "cells": [
  {
   "cell_type": "markdown",
   "metadata": {},
   "source": [
    "# HW7\n",
    "\n",
    "Name:Jayant Vinaik"
   ]
  },
  {
   "cell_type": "code",
   "execution_count": null,
   "metadata": {},
   "outputs": [],
   "source": [
    "# inside of the HW7_Files folder there is a text file called Dracula.txt that we will be using for this assignment\n",
    "\n",
    "# read in the Dracula.txt file and store it in a variable called dracula_text\n",
    "# Note the file is utf-8 encoded\n",
    "\n",
    "with open('Dracula.txt', 'r', encoding='utf-8') as file:\n",
    "  dracula_text = file.read()\n",
    "\n"
   ]
  },
  {
   "cell_type": "code",
   "execution_count": null,
   "metadata": {},
   "outputs": [],
   "source": [
    "# Create a method that will get the text inbetween the Gutenberg and START OF THIS PROJECT GUTENBERG EBOOK DRACULA lines. Name the method get_text(text) and have it return the text inbetween the two lines.\n",
    "# You can look for the following 2 strings:\n",
    "# *** START OF THE PROJECT GUTENBERG EBOOK DRACULA ***\n",
    "# *** END OF THE PROJECT GUTENBERG EBOOK DRACULA ***\n",
    "# Update the variable called dracula_text that is the result of calling the get_text method on the dracula_text variable\n",
    "def get_text(text):\n",
    "  start_index = text.find(start_marker)\n",
    "  end_index = text.find(end_marker)\n",
    "\n",
    "  result_text = text[start_index + len(start_marker):end_index].strip()\n",
    "  return result_text\n",
    "\n",
    "\n",
    "dracula_text = get_text(dracula_text)"
   ]
  },
  {
   "cell_type": "markdown",
   "metadata": {},
   "source": []
  },
  {
   "cell_type": "code",
   "execution_count": null,
   "metadata": {},
   "outputs": [],
   "source": [
    "# Clean the text by removing all punctuation and numbers. You can use the replace method to do this. Replace all punctuation and numbers with an empty string.\n",
    "dracula_text = dracula_text.replace(\".\", \"\").replace(\",\", \"\").replace(\";\", \"\")\n",
    "for digit in '0123456789':\n",
    "  dracula_text = dracula_text.replace(digit, '')"
   ]
  },
  {
   "cell_type": "code",
   "execution_count": null,
   "metadata": {},
   "outputs": [],
   "source": [
    "# Answer the following questions using python code:\n",
    "# 1. What is the total number of words in the text?\n",
    "total_words = len(dracula_text.split())\n",
    "print(\"Total number of words:\", total_words)\n",
    "# 2. What is the total number of unique words in the text?\n",
    "unique_words = len(set(dracula_text.split()))   \n",
    "\n",
    "# 3. How many times is the word 'vampire' used in the text?\n",
    "vampire_count = dracula_text.count(\"vampire\")\n",
    "print(\"Number of times 'vampire' is used:\", vampire_count)\n",
    "# 4. What is the name of Chapter 5?\n",
    "\n",
    "# Note in the text chapters are in roman numerals (5 is V)\n",
    "chapter_number = dracula_text.find(\"CHAPTER V\")\n",
    "print(\n",
    "  dracula_text[chapter_number + len(\"CHAPTER V\"):chapter_number + len(\"CHAPTER V\") + 22]\n",
    ")\n",
    "\n",
    "# 5. What is the total number of words in Chapter 5?\n",
    "# Hints:\n",
    "# To get just the text for chapter 5 you can use slicing between the start and end of chapter 5\n",
    "# To find the start of chapter 5 you can use the find method to find the index of the string 'CHAPTER V'\n",
    "# To find the end of chapter 5 you can use the find method to find the index of the string 'CHAPTER VI'\n",
    "# Then you can use slicing to get the text inbetween the start and end of chapter 5\n",
    "# IE find 'CHAPTER V' : find 'CHAPTER VI'\n",
    "# Then find the length of the text for the result of the slicing\n",
    "\n",
    "end_marker = \"*** END OF THE PROJECT GUTENBERG EBOOK DRACULA ***\"\n",
    "end_index = dracula_text.find(end_marker)\n",
    "dracula_text = dracula_text[2000:end_index].strip()\n",
    "\n",
    "chapter_start = dracula_text.find(\"CHAPTER V\")\n",
    "chapter_end = dracula_text.find(\"CHAPTER VI\")\n",
    "\n",
    "\n",
    "chapter_5_text = dracula_text[chapter_start:chapter_end]\n",
    "total_words_chapter_5 = len(chapter_5_text.split())\n",
    "print(\"Total number of words in Chapter 5:\", total_words_chapter_5)\n"
   ]
  }
 ],
 "metadata": {
  "language_info": {
   "name": "python"
  }
 },
 "nbformat": 4,
 "nbformat_minor": 2
}
